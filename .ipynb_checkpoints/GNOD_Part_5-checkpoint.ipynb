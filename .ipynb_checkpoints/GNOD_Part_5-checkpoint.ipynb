{
 "cells": [
  {
   "cell_type": "markdown",
   "id": "ec8bf222",
   "metadata": {},
   "source": [
    "# GNOD Part_5"
   ]
  },
  {
   "cell_type": "markdown",
   "id": "140a3e2a",
   "metadata": {},
   "source": [
    "### Pseudocode\n",
    "\n",
    "0. Import:\n",
    "    - pickle scaler\n",
    "    - pickle kmeans\n",
    "    - database with top_100_songs\n",
    "    - database with all songs with cluster\n",
    "1. User_input:\n",
    "    - optimalisation\n",
    "2. Checking if hot or not:\n",
    "    - hot another song from top_100_hot\n",
    "    - not: go to next step\n",
    "3. Not hot:\n",
    "    - Query with the song title to get a song features and audio fromt the spotify\n",
    "4. Song from a query:\n",
    "    - preparing the same way like our playlist\n",
    "    - using the scaler\n",
    "    - using kmeans to cluster the song\n",
    "5. Checking to which cluster the songs belong to.\n",
    "6. Proposing a random song from the same cluster.\n"
   ]
  },
  {
   "cell_type": "code",
   "execution_count": 1,
   "id": "2da0065e",
   "metadata": {},
   "outputs": [],
   "source": [
    "import pandas as pd \n",
    "from pandas import json_normalize\n",
    "import numpy as np\n",
    "\n",
    "import matplotlib.pyplot as plt\n",
    "from matplotlib.lines import Line2D\n",
    "\n",
    "from sklearn import cluster, datasets\n",
    "from sklearn.preprocessing import StandardScaler\n",
    "\n",
    "from sklearn.cluster import KMeans\n",
    "from sklearn.metrics import silhouette_score \n",
    "\n",
    "import pickle \n",
    "from pickle import dump\n",
    "from pickle import load\n",
    "\n",
    "import spotipy\n",
    "from spotipy.oauth2 import SpotifyClientCredentials\n",
    "\n",
    "from random import randint\n",
    "from time import sleep\n",
    "\n",
    "from bs4 import BeautifulSoup\n",
    "import requests\n",
    "\n",
    "import re"
   ]
  },
  {
   "cell_type": "markdown",
   "id": "f6d74c69",
   "metadata": {},
   "source": [
    "### 0. Importing tools"
   ]
  },
  {
   "cell_type": "code",
   "execution_count": 2,
   "id": "472d3921",
   "metadata": {},
   "outputs": [],
   "source": [
    "# Opening the pickle with scaler\n",
    "scaler = load(open('scaler.p','rb'))     # reading a file "
   ]
  },
  {
   "cell_type": "code",
   "execution_count": 3,
   "id": "d9abb39e",
   "metadata": {},
   "outputs": [],
   "source": [
    "# Opening the pickle with kmeans\n",
    "kmeans_cluster = load(open('kmeans_cluster_songs.p','rb')) "
   ]
  },
  {
   "cell_type": "code",
   "execution_count": 5,
   "id": "47986945",
   "metadata": {},
   "outputs": [],
   "source": [
    "df = pd.read_csv(\"df_final.csv\")\n",
    "# df"
   ]
  },
  {
   "cell_type": "code",
   "execution_count": null,
   "id": "54f77004",
   "metadata": {},
   "outputs": [],
   "source": [
    "# df.columns"
   ]
  },
  {
   "cell_type": "code",
   "execution_count": 6,
   "id": "fb703e94",
   "metadata": {},
   "outputs": [],
   "source": [
    "hot_songs = pd.read_csv(\"top_100_songs.csv\")\n",
    "# hot_songs"
   ]
  },
  {
   "cell_type": "code",
   "execution_count": null,
   "id": "b4f7e251",
   "metadata": {},
   "outputs": [],
   "source": []
  },
  {
   "cell_type": "markdown",
   "id": "ab63f239",
   "metadata": {},
   "source": [
    "### Rearanging the dataframe with database\n",
    "- I keep only some features: song_name, name, cluster, url\n"
   ]
  },
  {
   "cell_type": "code",
   "execution_count": 8,
   "id": "10dd770f",
   "metadata": {},
   "outputs": [],
   "source": [
    "df2 = df[[\"song_name\", \"name\", \"uri\", \"cluster\"]]\n",
    "# df2"
   ]
  },
  {
   "cell_type": "code",
   "execution_count": 9,
   "id": "3ec1e982",
   "metadata": {},
   "outputs": [],
   "source": [
    "# Renaming columns\n",
    "df2 = df2.rename(columns={'song_name':'title',\n",
    "                            'name':'artist', \n",
    "                            'uri':'uri',\n",
    "                         'cluster' : 'cluster'})"
   ]
  },
  {
   "cell_type": "code",
   "execution_count": 11,
   "id": "8ce8ae0d",
   "metadata": {},
   "outputs": [],
   "source": [
    "# df2.head(2)"
   ]
  },
  {
   "cell_type": "markdown",
   "id": "311a25bd",
   "metadata": {},
   "source": [
    "### 1. User input"
   ]
  },
  {
   "cell_type": "code",
   "execution_count": 39,
   "id": "d71cf6aa",
   "metadata": {},
   "outputs": [
    {
     "name": "stdout",
     "output_type": "stream",
     "text": [
      "Please give a name of your favourite song: wanna be\n"
     ]
    }
   ],
   "source": [
    "def get_user_song():\n",
    "    user_song = input(\"Please give a name of your favourite song: \")\n",
    "    # Function to clean whitestrips and make values to lowercase\n",
    "    user_song = user_song.lower()\n",
    "    user_song = user_song.strip()\n",
    "    return user_song\n",
    "\n",
    "\n",
    "def check_length(input_string):\n",
    "    result = False\n",
    "    if len(input_string) <= 3:\n",
    "        result = False\n",
    "    else:\n",
    "        result = True\n",
    "    return result\n",
    "\n",
    "\n",
    "def check_fav_song():\n",
    "    is_name_valid = False\n",
    "    \n",
    "    while is_name_valid == False:\n",
    "        song_name = get_user_song()\n",
    "        is_name_valid = check_length(song_name)\n",
    "\n",
    "    return song_name\n",
    "\n",
    "        \n",
    "song_name = check_fav_song()"
   ]
  },
  {
   "cell_type": "code",
   "execution_count": 40,
   "id": "d08e624c",
   "metadata": {},
   "outputs": [
    {
     "data": {
      "text/plain": [
       "'wanna be'"
      ]
     },
     "execution_count": 40,
     "metadata": {},
     "output_type": "execute_result"
    }
   ],
   "source": [
    "song_name"
   ]
  },
  {
   "cell_type": "markdown",
   "id": "682317c8",
   "metadata": {},
   "source": [
    "## 2. Checking HOT or Not HOT"
   ]
  },
  {
   "cell_type": "code",
   "execution_count": 41,
   "id": "4d9414c5",
   "metadata": {},
   "outputs": [
    {
     "name": "stdout",
     "output_type": "stream",
     "text": [
      "Your song is not hot at the moment, we will give you another recommendation\n"
     ]
    }
   ],
   "source": [
    "def hot_or_not(song_name):\n",
    "    result = hot_songs[\"title\"].apply(lambda x: song_name in x)\n",
    "    \n",
    "    if (result == False).all() != True:\n",
    "        print(\"new song recommendation for you: \")\n",
    "        print(hot_songs[\"title\"][randint(0,99)]) \n",
    "    else:\n",
    "        print(\"Your song is not hot at the moment, we will give you another recommendation\")\n",
    "        \n",
    "hot_or_not(song_name)"
   ]
  },
  {
   "cell_type": "markdown",
   "id": "2ec5839b",
   "metadata": {},
   "source": [
    "## 3. Query of a new song\n",
    "## 4. Song from a query"
   ]
  },
  {
   "cell_type": "code",
   "execution_count": 15,
   "id": "65e939ba",
   "metadata": {},
   "outputs": [],
   "source": [
    "secrets_file = open(\"secrets.txt\",\"r\")\n",
    "string = secrets_file.read()\n",
    "\n",
    "secrets_dict={}\n",
    "for line in string.split('\\n'):\n",
    "    if len(line) > 0:\n",
    "#         print(line.split(':'))\n",
    "        secrets_dict[line.split(':')[0]]=line.split(':')[1].strip()\n",
    "    \n",
    "\n",
    "#Initialize SpotiPy with user credentials\n",
    "sp = spotipy.Spotify(auth_manager=SpotifyClientCredentials(client_id=secrets_dict['clientid'],\n",
    "                                                           client_secret=secrets_dict['clientsecret']))"
   ]
  },
  {
   "cell_type": "code",
   "execution_count": 42,
   "id": "6edd2d96",
   "metadata": {},
   "outputs": [],
   "source": [
    "results = sp.search(q=song_name, limit=1)\n",
    "tracks = json_normalize(results[\"tracks\"][\"items\"])\n",
    "\n",
    "artist_df = pd.DataFrame(columns=['href', 'id', 'name', 'type', 'uri', 'external_urls.spotify', 'song_id'])\n",
    "\n",
    "for i in tracks.index:\n",
    "    artists_for_song = json_normalize(tracks.iloc[i]['artists'])\n",
    "    artists_for_song['song_id'] = tracks.iloc[i]['id']            # we keep song id, it is the same for all the artists on the song\n",
    "    artists_for_song['song_name'] = tracks.iloc[i]['name']        # same for song_name\n",
    "    artists_for_song['popularity'] = tracks.iloc[i]['popularity'] # and for popularity   \n",
    "    artist_df = pd.concat([artist_df, artists_for_song], axis=0)"
   ]
  },
  {
   "cell_type": "code",
   "execution_count": 43,
   "id": "3110e00f",
   "metadata": {},
   "outputs": [],
   "source": [
    "user_song_searched = artist_df[['song_name', 'name', 'song_id', 'popularity']]\n",
    "user_song_id = user_song_searched[\"song_id\"][0]\n",
    "\n",
    "song_audio_features = sp.audio_features(user_song_id)\n",
    "song_audio_features = json_normalize(song_audio_features)\n",
    "\n",
    "X_audio = song_audio_features[[\"danceability\", \"energy\", \"acousticness\", \"key\", \"loudness\", \"mode\", \"speechiness\", \"acousticness\",\\\n",
    "             \"instrumentalness\", \"liveness\", \"valence\", \"tempo\", \"duration_ms\", \"time_signature\"]]"
   ]
  },
  {
   "cell_type": "markdown",
   "id": "c5576bb2",
   "metadata": {},
   "source": [
    "#### scaling and kmeans"
   ]
  },
  {
   "cell_type": "code",
   "execution_count": 44,
   "id": "5d895032",
   "metadata": {},
   "outputs": [],
   "source": [
    "X_audio_scal = scaler.transform(X_audio)\n",
    "# Predicting / assigning the clusters:\n",
    "cluster_user_song = kmeans_cluster.predict(X_audio_scal)"
   ]
  },
  {
   "cell_type": "markdown",
   "id": "cdcddd19",
   "metadata": {},
   "source": [
    "## 5. Cluster of a song"
   ]
  },
  {
   "cell_type": "code",
   "execution_count": 45,
   "id": "d2de7ace",
   "metadata": {},
   "outputs": [],
   "source": [
    "cluster_user_song_int = cluster_user_song[0]"
   ]
  },
  {
   "cell_type": "markdown",
   "id": "21b59c74",
   "metadata": {},
   "source": [
    "## 6. Proposing a song froma cluster"
   ]
  },
  {
   "cell_type": "code",
   "execution_count": 46,
   "id": "963b42de",
   "metadata": {},
   "outputs": [],
   "source": [
    "df_chosen_cluster = df2.loc[df2[\"cluster\"]==cluster_user_song_int]\n",
    "df_chosen_cluster = df_chosen_cluster.reset_index(drop=True)\n",
    "\n",
    "size = len(df_chosen_cluster)\n",
    "recommendation = df_chosen_cluster.loc[[randint(0, size)],:]  \n",
    "recommendation =  recommendation.reset_index(drop=True)"
   ]
  },
  {
   "cell_type": "code",
   "execution_count": 47,
   "id": "6d185c25",
   "metadata": {},
   "outputs": [],
   "source": [
    "def new_recommendation():\n",
    "    title_recommended = recommendation[\"title\"][0]\n",
    "    artist_recommended = recommendation[\"artist\"][0]\n",
    "    link = recommendation[\"uri\"][0]\n",
    "    \n",
    "    print(\"Your new recommendation is a song: \" + title_recommended)\n",
    "    print(\"from the artist: \" + artist_recommended)    \n",
    "    print(\"You can find a song using this url: \" + link)  \n",
    "\n",
    "    "
   ]
  },
  {
   "cell_type": "code",
   "execution_count": 48,
   "id": "1e13aca7",
   "metadata": {},
   "outputs": [
    {
     "name": "stdout",
     "output_type": "stream",
     "text": [
      "Your new recommendation is a song: Elevators (Me & You)\n",
      "from the artist: Outkast\n",
      "You can find a song using this url: spotify:track:2oLwDI8tZUOh6SmTMRRfKs\n"
     ]
    }
   ],
   "source": [
    "new_recommendation()"
   ]
  },
  {
   "cell_type": "code",
   "execution_count": null,
   "id": "f4ae0393",
   "metadata": {},
   "outputs": [],
   "source": []
  },
  {
   "cell_type": "code",
   "execution_count": null,
   "id": "5faf8f5e",
   "metadata": {},
   "outputs": [],
   "source": []
  },
  {
   "cell_type": "code",
   "execution_count": null,
   "id": "0d2b2ded",
   "metadata": {},
   "outputs": [],
   "source": []
  },
  {
   "cell_type": "code",
   "execution_count": null,
   "id": "13b46ec8",
   "metadata": {},
   "outputs": [],
   "source": []
  },
  {
   "cell_type": "code",
   "execution_count": null,
   "id": "4699a50c",
   "metadata": {},
   "outputs": [],
   "source": []
  }
 ],
 "metadata": {
  "kernelspec": {
   "display_name": "Python 3 (ipykernel)",
   "language": "python",
   "name": "python3"
  },
  "language_info": {
   "codemirror_mode": {
    "name": "ipython",
    "version": 3
   },
   "file_extension": ".py",
   "mimetype": "text/x-python",
   "name": "python",
   "nbconvert_exporter": "python",
   "pygments_lexer": "ipython3",
   "version": "3.11.5"
  }
 },
 "nbformat": 4,
 "nbformat_minor": 5
}
