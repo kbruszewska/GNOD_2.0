{
 "cells": [
  {
   "cell_type": "markdown",
   "id": "18742875",
   "metadata": {},
   "source": [
    "## Lab | Web Scraping Single Page (GNOD part 1)\n",
    "Scrape the current top 100 songs and their respective artists, and put the information into a pandas dataframe."
   ]
  },
  {
   "cell_type": "code",
   "execution_count": null,
   "id": "8e506358",
   "metadata": {},
   "outputs": [],
   "source": [
    "from bs4 import BeautifulSoup\n",
    "import requests\n",
    "import pandas as pd\n",
    "from random import randint\n",
    "import re"
   ]
  },
  {
   "cell_type": "markdown",
   "id": "fc0a739d",
   "metadata": {},
   "source": [
    "### find url and store it in a variable"
   ]
  },
  {
   "cell_type": "code",
   "execution_count": null,
   "id": "ba163de0",
   "metadata": {},
   "outputs": [],
   "source": [
    "url = \"https://www.popvortex.com/music/charts/top-100-songs.php\""
   ]
  },
  {
   "cell_type": "markdown",
   "id": "86335ad3",
   "metadata": {},
   "source": [
    "### download html with a get request"
   ]
  },
  {
   "cell_type": "code",
   "execution_count": null,
   "id": "196abb4c",
   "metadata": {},
   "outputs": [],
   "source": [
    "response = requests.get(url)"
   ]
  },
  {
   "cell_type": "code",
   "execution_count": null,
   "id": "cbef8ae8",
   "metadata": {},
   "outputs": [],
   "source": [
    "response.status_code # 200 status code means OK!"
   ]
  },
  {
   "cell_type": "code",
   "execution_count": null,
   "id": "ea93208c",
   "metadata": {},
   "outputs": [],
   "source": [
    "response.content"
   ]
  },
  {
   "cell_type": "markdown",
   "id": "e8cee9ff",
   "metadata": {},
   "source": [
    "### create a soup (and check the output if it is a html file)"
   ]
  },
  {
   "cell_type": "code",
   "execution_count": null,
   "id": "bad5edfd",
   "metadata": {},
   "outputs": [],
   "source": [
    "soup = BeautifulSoup(response.content, \"html.parser\")\n",
    "soup"
   ]
  },
  {
   "cell_type": "markdown",
   "id": "9b79e288",
   "metadata": {},
   "source": [
    "### retrieve/extract the desired info"
   ]
  },
  {
   "cell_type": "code",
   "execution_count": null,
   "id": "03287e4b",
   "metadata": {},
   "outputs": [],
   "source": [
    "# Creating a soup with titles"
   ]
  },
  {
   "cell_type": "code",
   "execution_count": null,
   "id": "8538f4a3",
   "metadata": {},
   "outputs": [],
   "source": [
    "len(soup.select('div.chart-content.col-xs-12.col-sm-8 > p > cite'))"
   ]
  },
  {
   "cell_type": "code",
   "execution_count": null,
   "id": "56a0cf77",
   "metadata": {},
   "outputs": [],
   "source": [
    "# list with titles\n",
    "\n",
    "title = []  \n",
    "\n",
    "\n",
    "for li in soup.select('div.chart-content.col-xs-12.col-sm-8 > p > cite'):\n",
    "    title.append(li.get_text())  \n",
    "print(title)"
   ]
  },
  {
   "cell_type": "code",
   "execution_count": null,
   "id": "1930f7b0",
   "metadata": {},
   "outputs": [],
   "source": [
    "len(title)"
   ]
  },
  {
   "cell_type": "code",
   "execution_count": null,
   "id": "66a8e953",
   "metadata": {},
   "outputs": [],
   "source": [
    "# 1. this was copied selector from the website:\n",
    "\n",
    "#chart-position-4 > div.chart-content.col-xs-12.col-sm-8 > p > em\n",
    "\n",
    "# 2. \"chart-position-\" was reapeating with each number\n",
    "# 3. we delete \"chart-position-\" from the soup selection"
   ]
  },
  {
   "cell_type": "code",
   "execution_count": null,
   "id": "af53921d",
   "metadata": {},
   "outputs": [],
   "source": [
    "len(soup.select(\"div.chart-content.col-xs-12.col-sm-8 > p > em\"))"
   ]
  },
  {
   "cell_type": "code",
   "execution_count": null,
   "id": "2b815511",
   "metadata": {},
   "outputs": [],
   "source": []
  },
  {
   "cell_type": "code",
   "execution_count": null,
   "id": "9ecd93b8",
   "metadata": {},
   "outputs": [],
   "source": [
    "artist = []  \n",
    "\n",
    "\n",
    "for li in soup.select(\"div.chart-content.col-xs-12.col-sm-8 > p > em\"):\n",
    "    artist.append(li.get_text())  \n",
    "print(artist)"
   ]
  },
  {
   "cell_type": "code",
   "execution_count": null,
   "id": "9bc8db15",
   "metadata": {},
   "outputs": [],
   "source": [
    "len(artist)"
   ]
  },
  {
   "cell_type": "code",
   "execution_count": null,
   "id": "51cea573",
   "metadata": {},
   "outputs": [],
   "source": [
    "top_100_songs = pd.DataFrame({\"title\":title,\n",
    "                              \"artist\":artist\n",
    "                              })"
   ]
  },
  {
   "cell_type": "code",
   "execution_count": null,
   "id": "cb85588a",
   "metadata": {},
   "outputs": [],
   "source": [
    "top_100_songs"
   ]
  },
  {
   "cell_type": "code",
   "execution_count": null,
   "id": "feb6a01a",
   "metadata": {},
   "outputs": [],
   "source": []
  },
  {
   "cell_type": "markdown",
   "id": "070988c0",
   "metadata": {},
   "source": [
    "## GNOD part 2"
   ]
  },
  {
   "cell_type": "markdown",
   "id": "807b4122",
   "metadata": {},
   "source": [
    "STEPS \n",
    "\n",
    "1. Preparing database with hot songs: top_100_songs\n",
    "    - checking the length of the input (if shorter than 3, then the user needs to correct the input)\n",
    "    - all titles lowercase\n",
    "    - all artists lowercase \n",
    "\n",
    "2. Optimalisation of the user_input\n",
    "    - lowercase user_input\n",
    "    - whitestrip\n",
    "    - what if not the whole word was given? Checking only part of the matching\n",
    "    - \n",
    "4. Checking matching if the song is in the database\n",
    "    - Yes: Give another recommendation\n",
    "    - No: No recommendation"
   ]
  },
  {
   "cell_type": "markdown",
   "id": "65ec05dc",
   "metadata": {},
   "source": [
    "#### 1. hot songs database (preparing for further steps)"
   ]
  },
  {
   "cell_type": "code",
   "execution_count": null,
   "id": "7ad302d9",
   "metadata": {},
   "outputs": [],
   "source": [
    "top_100_songs[\"title\"]"
   ]
  },
  {
   "cell_type": "code",
   "execution_count": null,
   "id": "dab0091b",
   "metadata": {},
   "outputs": [],
   "source": [
    "def clean_whitestripe_lowcase(row):\n",
    "    # Function to clean whitestrips and make values to lowercase\n",
    "    row = row.lower()\n",
    "    row = row.strip()    \n",
    "    return row"
   ]
  },
  {
   "cell_type": "code",
   "execution_count": null,
   "id": "e90d9918",
   "metadata": {},
   "outputs": [],
   "source": [
    "top_100_songs[\"title\"] = top_100_songs[\"title\"].apply(clean_whitestripe_lowcase)\n",
    "top_100_songs[\"artist\"] = top_100_songs[\"artist\"].apply(clean_whitestripe_lowcase)"
   ]
  },
  {
   "cell_type": "code",
   "execution_count": null,
   "id": "43271ac1",
   "metadata": {},
   "outputs": [],
   "source": [
    "top_100_songs.head()"
   ]
  },
  {
   "cell_type": "code",
   "execution_count": null,
   "id": "6ee7329f",
   "metadata": {},
   "outputs": [],
   "source": [
    "top_100_songs.dtypes"
   ]
  },
  {
   "cell_type": "code",
   "execution_count": null,
   "id": "c66b3a6c",
   "metadata": {},
   "outputs": [],
   "source": [
    "top_100_songs"
   ]
  },
  {
   "cell_type": "markdown",
   "id": "20520dfb",
   "metadata": {},
   "source": [
    "#### 2. Optimalisation of the user_input"
   ]
  },
  {
   "cell_type": "code",
   "execution_count": null,
   "id": "10c7c977",
   "metadata": {},
   "outputs": [],
   "source": [
    "def clean_user_input(user_input):\n",
    "    # Function to clean whitestrips and make values to lowercase\n",
    "    user_input = user_input.lower()\n",
    "    user_input = user_input.strip()\n",
    "    return user_input"
   ]
  },
  {
   "cell_type": "code",
   "execution_count": null,
   "id": "8ebf25b5",
   "metadata": {},
   "outputs": [],
   "source": [
    "user_input = input(\"Please give a name of your favourite song: \")"
   ]
  },
  {
   "cell_type": "code",
   "execution_count": null,
   "id": "4ab8f214",
   "metadata": {},
   "outputs": [],
   "source": [
    "while len(user_input) <= 3:\n",
    "    print(\"Too short, put again\")\n",
    "    user_input = input(\"Please give a name of your favourite song: \")\n",
    "if len(user_input)>3:\n",
    "    user_input = clean_user_input(user_input)\n",
    "    print(user_input)"
   ]
  },
  {
   "cell_type": "markdown",
   "id": "4f1c9d6c",
   "metadata": {},
   "source": [
    "#### 3. Checking if currently hot"
   ]
  },
  {
   "cell_type": "code",
   "execution_count": null,
   "id": "cf32b872",
   "metadata": {},
   "outputs": [],
   "source": [
    "user_input"
   ]
  },
  {
   "cell_type": "code",
   "execution_count": null,
   "id": "41ebab35",
   "metadata": {},
   "outputs": [],
   "source": [
    "result = top_100_songs[\"title\"].apply(lambda x: user_input in x)\n",
    "\n",
    "if (result == False).all() != True:\n",
    "    print(\"new song recommendation for you: \")\n",
    "    print(top_100_songs[\"title\"][randint(0,99)]) \n",
    "else:\n",
    "    print(\"No reccomendation at the moment\")"
   ]
  },
  {
   "cell_type": "code",
   "execution_count": null,
   "id": "02bab22a",
   "metadata": {},
   "outputs": [],
   "source": []
  }
 ],
 "metadata": {
  "kernelspec": {
   "display_name": "Python 3 (ipykernel)",
   "language": "python",
   "name": "python3"
  },
  "language_info": {
   "codemirror_mode": {
    "name": "ipython",
    "version": 3
   },
   "file_extension": ".py",
   "mimetype": "text/x-python",
   "name": "python",
   "nbconvert_exporter": "python",
   "pygments_lexer": "ipython3",
   "version": "3.11.5"
  }
 },
 "nbformat": 4,
 "nbformat_minor": 5
}
