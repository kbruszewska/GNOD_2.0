{
 "cells": [
  {
   "cell_type": "markdown",
   "id": "7a66cf28",
   "metadata": {},
   "source": [
    "# GNOD Part_5"
   ]
  },
  {
   "cell_type": "markdown",
   "id": "54fabff2",
   "metadata": {},
   "source": [
    "### Pseudocode\n",
    "\n",
    "0. Import:\n",
    "    - pickle scaler\n",
    "    - pickle kmeans\n",
    "    - database with top_100_songs\n",
    "    - database with all songs with cluster\n",
    "1. User_input:\n",
    "    - optimalisation\n",
    "2. Checking if hot or not:\n",
    "    - hot another song from top_100_hot\n",
    "    - not: go to next step\n",
    "3. Not hot:\n",
    "    - Query with the song title to get a song features and audio fromt the spotify\n",
    "4. Song from a query:\n",
    "    - preparing the same way like our playlist\n",
    "    - using the scaler\n",
    "    - using kmeans to cluster the song\n",
    "5. Checking to which cluster the songs belong to.\n",
    "6. Proposing a random song from the same cluster."
   ]
  },
  {
   "cell_type": "code",
   "execution_count": 1,
   "id": "3a9f8c64",
   "metadata": {},
   "outputs": [],
   "source": [
    "import pandas as pd \n",
    "from pandas import json_normalize\n",
    "import numpy as np\n",
    "\n",
    "import matplotlib.pyplot as plt\n",
    "from matplotlib.lines import Line2D\n",
    "\n",
    "from sklearn import cluster, datasets\n",
    "from sklearn.preprocessing import StandardScaler\n",
    "\n",
    "from sklearn.cluster import KMeans\n",
    "from sklearn.metrics import silhouette_score \n",
    "\n",
    "import pickle \n",
    "from pickle import dump\n",
    "from pickle import load\n",
    "\n",
    "import spotipy\n",
    "from spotipy.oauth2 import SpotifyClientCredentials\n",
    "\n",
    "from random import randint\n",
    "from time import sleep\n",
    "\n",
    "from bs4 import BeautifulSoup\n",
    "import requests\n",
    "\n",
    "import re"
   ]
  },
  {
   "cell_type": "code",
   "execution_count": null,
   "id": "3c466eb7",
   "metadata": {},
   "outputs": [],
   "source": []
  },
  {
   "cell_type": "code",
   "execution_count": 2,
   "id": "80db3ec0",
   "metadata": {},
   "outputs": [],
   "source": [
    "# Importing tools\n",
    "scaler = load(open('scaler.p','rb'))     \n",
    "kmeans_cluster = load(open('kmeans_cluster_songs.p','rb')) \n",
    "df = pd.read_csv(\"df_final.csv\")\n",
    "hot_songs = pd.read_csv(\"top_100_songs.csv\")\n",
    "\n",
    "# Rearranging tools and datasets\n",
    "df2 = df[[\"song_name\", \"name\", \"uri\", \"cluster\"]]\n",
    "df2 = df2.rename(columns={'song_name':'title',\n",
    "                            'name':'artist', \n",
    "                            'uri':'uri',\n",
    "                         'cluster' : 'cluster'})"
   ]
  },
  {
   "cell_type": "code",
   "execution_count": 22,
   "id": "2cc69ec2",
   "metadata": {},
   "outputs": [],
   "source": [
    "def get_user_song():\n",
    "    user_song = input(\"Please give a name of your favourite song: \")\n",
    "    # Function to clean whitestrips and make values to lowercase\n",
    "    user_song = user_song.lower()\n",
    "    user_song = user_song.strip()\n",
    "    return user_song\n",
    "\n",
    "\n",
    "def check_length(input_string):\n",
    "    result = False\n",
    "    if len(input_string) <= 3:\n",
    "        result = False\n",
    "    else:\n",
    "        result = True\n",
    "    return result\n",
    "\n",
    "\n",
    "def check_fav_song():\n",
    "    is_name_valid = False\n",
    "    \n",
    "    while is_name_valid == False:\n",
    "        song_name = get_user_song()\n",
    "        is_name_valid = check_length(song_name)\n",
    "\n",
    "    return song_name\n",
    "\n",
    "def spotify_key():\n",
    "    secrets_file = open(\"secrets.txt\",\"r\")\n",
    "    string = secrets_file.read()\n",
    "\n",
    "    secrets_dict={}\n",
    "    for line in string.split('\\n'):\n",
    "        if len(line) > 0:\n",
    "            secrets_dict[line.split(':')[0]]=line.split(':')[1].strip()\n",
    "    \n",
    "    #Initialize SpotiPy with user credentials\n",
    "    sp = spotipy.Spotify(auth_manager=SpotifyClientCredentials(client_id=secrets_dict['clientid'],\n",
    "                                                           client_secret=secrets_dict['clientsecret']))\n",
    "    return sp\n",
    "\n",
    "\n",
    "def query(song_name):\n",
    "    sp = spotify_key()\n",
    "    results = sp.search(q=song_name, limit=1)\n",
    "    return results   \n",
    "\n",
    "\n",
    "\n",
    "     "
   ]
  },
  {
   "cell_type": "code",
   "execution_count": 27,
   "id": "53f9cc30",
   "metadata": {},
   "outputs": [],
   "source": [
    "def hot_or_not():\n",
    "    # Input user song: song_name\n",
    "    song_name = check_fav_song()\n",
    "    sp = spotify_key()\n",
    "    \n",
    "    result = hot_songs[\"title\"].apply(lambda x: song_name in x)\n",
    "    \n",
    "    if (result == False).all() != True:\n",
    "        print(\"new song recommendation for you: \")\n",
    "        print(hot_songs[\"title\"][randint(0,99)]) \n",
    "    else:\n",
    "#         print(\"Your song is not hot at the moment, we will give you another recommendation\")\n",
    "        results = query(song_name)\n",
    "        tracks = json_normalize(results[\"tracks\"][\"items\"])\n",
    "        artist_df = pd.DataFrame(columns=['href', 'id', 'name', 'type', 'uri', 'external_urls.spotify', 'song_id'])\n",
    "        for i in tracks.index:\n",
    "            artists_for_song = json_normalize(tracks.iloc[i]['artists'])\n",
    "            artists_for_song['song_id'] = tracks.iloc[i]['id']            # we keep song id, it is the same for all the artists on the song\n",
    "            artists_for_song['song_name'] = tracks.iloc[i]['name']        # same for song_name\n",
    "            artists_for_song['popularity'] = tracks.iloc[i]['popularity'] # and for popularity   \n",
    "            artist_df = pd.concat([artist_df, artists_for_song], axis=0)\n",
    "        user_song_searched = artist_df[['song_name', 'name', 'song_id', 'popularity']]\n",
    "        user_song_id = user_song_searched[\"song_id\"][0]    \n",
    "        \n",
    "        song_audio_features = sp.audio_features(user_song_id)\n",
    "        song_audio_features = json_normalize(song_audio_features)\n",
    "        \n",
    "        \n",
    "        \n",
    "        \n",
    "        print(song_audio_features)"
   ]
  },
  {
   "cell_type": "code",
   "execution_count": 28,
   "id": "837fde4c",
   "metadata": {},
   "outputs": [
    {
     "name": "stdout",
     "output_type": "stream",
     "text": [
      "Please give a name of your favourite song: polska\n",
      "   danceability  energy  key  loudness  mode  speechiness  acousticness  \\\n",
      "0         0.774   0.785    7    -5.224     1        0.161        0.0725   \n",
      "\n",
      "   instrumentalness  liveness  valence    tempo            type  \\\n",
      "0           0.00247     0.109    0.594  155.019  audio_features   \n",
      "\n",
      "                       id                                   uri  \\\n",
      "0  2mShDoJYcOa4OdO2MFatxz  spotify:track:2mShDoJYcOa4OdO2MFatxz   \n",
      "\n",
      "                                          track_href  \\\n",
      "0  https://api.spotify.com/v1/tracks/2mShDoJYcOa4...   \n",
      "\n",
      "                                        analysis_url  duration_ms  \\\n",
      "0  https://api.spotify.com/v1/audio-analysis/2mSh...       140258   \n",
      "\n",
      "   time_signature  \n",
      "0               4  \n"
     ]
    }
   ],
   "source": [
    "hot_or_not()"
   ]
  },
  {
   "cell_type": "code",
   "execution_count": null,
   "id": "bc40edc9",
   "metadata": {},
   "outputs": [],
   "source": []
  },
  {
   "cell_type": "code",
   "execution_count": null,
   "id": "b512b064",
   "metadata": {},
   "outputs": [],
   "source": []
  },
  {
   "cell_type": "code",
   "execution_count": null,
   "id": "e93e4c84",
   "metadata": {},
   "outputs": [],
   "source": []
  },
  {
   "cell_type": "code",
   "execution_count": 17,
   "id": "fb17e17d",
   "metadata": {},
   "outputs": [],
   "source": []
  },
  {
   "cell_type": "code",
   "execution_count": null,
   "id": "1805c1fd",
   "metadata": {},
   "outputs": [],
   "source": []
  }
 ],
 "metadata": {
  "kernelspec": {
   "display_name": "Python 3 (ipykernel)",
   "language": "python",
   "name": "python3"
  },
  "language_info": {
   "codemirror_mode": {
    "name": "ipython",
    "version": 3
   },
   "file_extension": ".py",
   "mimetype": "text/x-python",
   "name": "python",
   "nbconvert_exporter": "python",
   "pygments_lexer": "ipython3",
   "version": "3.11.5"
  }
 },
 "nbformat": 4,
 "nbformat_minor": 5
}
