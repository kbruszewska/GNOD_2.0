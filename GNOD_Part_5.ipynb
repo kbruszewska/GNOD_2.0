{
 "cells": [
  {
   "cell_type": "markdown",
   "id": "ec8bf222",
   "metadata": {},
   "source": [
    "# GNOD Part_5"
   ]
  },
  {
   "cell_type": "markdown",
   "id": "140a3e2a",
   "metadata": {},
   "source": [
    "### Pseudocode\n",
    "\n",
    "0. Import:\n",
    "    - pickle scaler\n",
    "    - pickle kmeans\n",
    "    - database with songs\n",
    "1. User_input:\n",
    "    - hot - another hot song\n",
    "    - not hot - next step\n",
    "2. Not hot:\n",
    "    - Query with the song title to get a song features and audio fromt the spotify\n",
    "3. Song from a query:\n",
    "    - preparing the same way like our playlist\n",
    "    - using the scaler\n",
    "    - using kmeans to cluster the song\n",
    "4. Checking to which cluster the songs belong to.\n",
    "5. Proposing a random song from the same cluster.\n"
   ]
  },
  {
   "cell_type": "code",
   "execution_count": null,
   "id": "2da0065e",
   "metadata": {},
   "outputs": [],
   "source": []
  }
 ],
 "metadata": {
  "kernelspec": {
   "display_name": "Python 3 (ipykernel)",
   "language": "python",
   "name": "python3"
  },
  "language_info": {
   "codemirror_mode": {
    "name": "ipython",
    "version": 3
   },
   "file_extension": ".py",
   "mimetype": "text/x-python",
   "name": "python",
   "nbconvert_exporter": "python",
   "pygments_lexer": "ipython3",
   "version": "3.11.5"
  }
 },
 "nbformat": 4,
 "nbformat_minor": 5
}
